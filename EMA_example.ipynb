import numpy as np 
import pandas as pd
import matplotlib.pyplot as plt
import datetime

# import package
import pandas_datareader.data as web
# set start and end dates 
start = datetime.datetime(2018, 2, 1) 
end = datetime.datetime(2020, 2, 1) 
# extract the closing price data
df = web.DataReader('^DJI', 'stooq', start, end)

# Create 12 days exponential moving average column
df['12_EMA'] = df['Close'].ewm(span = 12, adjust = False).mean()
# Create 24 days exponential moving average column
df['26_EMA'] = df['Close'].ewm(span = 26, adjust = False).mean()

# create a new column 'Signal' such that if 12-day EMA is greater   # than 26-day EMA then set Signal as 1 else 0
df['Signal'] = 0.0  
df['Signal'] = np.where(df['12_EMA'] > df['26_EMA'], 1.0, 0.0)

# create a new column 'Position' which is a day-to-day difference of # the 'Signal' column
df['Position'] = df['Signal'].diff()

df.head(10)

plt.figure(figsize = (20,10))

# plot close price, short-term and long-term moving averages 
df['Close'].plot(color = 'k', lw = 1, label = 'Close Price')  
df['12_EMA'].plot(color = 'b', lw = 1, label = '12-day EMA') 
df['26_EMA'].plot(color = 'g', lw = 1, label = '26-day EMA')


# plot ‘buy’ and 'sell' signals
plt.plot(df[df["Position"] == 1].index, 
         df["12_EMA"][df["Position"] == 1], 
         "^", markersize = 15, color = "g", label = 'buy')
plt.plot(df[df["Position"] == -1].index, 
         df["26_EMA"][df["Position"] == -1], 
         "v", markersize = 15, color = "r", label = 'sell')


plt.ylabel('Price in Rupees', fontsize = 15 )
plt.xlabel('Date', fontsize = 15 )
plt.title('ULTRACEMCO - EMA Crossover', fontsize = 20)
plt.legend()
plt.grid()
plt.show()
